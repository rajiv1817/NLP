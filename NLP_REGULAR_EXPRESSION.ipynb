{
  "nbformat": 4,
  "nbformat_minor": 0,
  "metadata": {
    "colab": {
      "provenance": [],
      "authorship_tag": "ABX9TyOA5ZbAx5gtTBhVNXyMp0xl",
      "include_colab_link": true
    },
    "kernelspec": {
      "name": "python3",
      "display_name": "Python 3"
    },
    "language_info": {
      "name": "python"
    }
  },
  "cells": [
    {
      "cell_type": "markdown",
      "metadata": {
        "id": "view-in-github",
        "colab_type": "text"
      },
      "source": [
        "<a href=\"https://colab.research.google.com/github/rajiv1817/NLP/blob/main/NLP_REGULAR_EXPRESSION.ipynb\" target=\"_parent\"><img src=\"https://colab.research.google.com/assets/colab-badge.svg\" alt=\"Open In Colab\"/></a>"
      ]
    },
    {
      "cell_type": "markdown",
      "source": [
        "NLP regular expressions\n"
      ],
      "metadata": {
        "id": "86Wt9BbYebr-"
      }
    },
    {
      "cell_type": "code",
      "execution_count": 2,
      "metadata": {
        "colab": {
          "base_uri": "https://localhost:8080/"
        },
        "id": "7JHJas-FeVS3",
        "outputId": "d0ecd0c1-55e7-4ab6-c9a7-073f3ec918ed"
      },
      "outputs": [
        {
          "output_type": "stream",
          "name": "stdout",
          "text": [
            "['200']\n"
          ]
        }
      ],
      "source": [
        "import re\n",
        "pattern = r\"\\d{3}\"  #2 digit numbers\n",
        "text = \" I joined in gitam in 2007 as Assistant Professor\"\n",
        "print(re.findall(pattern,text))"
      ]
    },
    {
      "cell_type": "code",
      "source": [
        "import re\n",
        "pattern = r\"\\d{1,3}\"  #2 digit numbers\n",
        "text = \" I joined in gitam in 2007 as Assistant Professor at 9 Am\"\n",
        "print(re.findall(pattern,text))\n"
      ],
      "metadata": {
        "colab": {
          "base_uri": "https://localhost:8080/"
        },
        "id": "0dSC8s2WejQW",
        "outputId": "da27e309-b9dd-4038-e3be-db7ab54d9b7b"
      },
      "execution_count": 3,
      "outputs": [
        {
          "output_type": "stream",
          "name": "stdout",
          "text": [
            "['200', '7', '9']\n"
          ]
        }
      ]
    },
    {
      "cell_type": "code",
      "source": [
        "import re\n",
        "pattern = r\"\\b\\d{1,3}\\b\"  #2 digit numbers  you can find your aadhar, Pan number\n",
        "text = \" I joined in gitam in 2007 as Assistant Professor at 9 Am\"\n",
        "print(re.findall(pattern,text))\n"
      ],
      "metadata": {
        "colab": {
          "base_uri": "https://localhost:8080/"
        },
        "id": "zXNSt-EIexCU",
        "outputId": "6fb293f4-ecf2-48dd-d680-d639410d449f"
      },
      "execution_count": 10,
      "outputs": [
        {
          "output_type": "stream",
          "name": "stdout",
          "text": [
            "['9']\n"
          ]
        }
      ]
    },
    {
      "cell_type": "code",
      "source": [
        "import re\n",
        "pattern = r\"\\S\"  #White Spaces\n",
        "text = \" I joined in gitam in 2007 as Assistant Professor at 9 Am\"\n",
        "print(re.findall(pattern,text))\n"
      ],
      "metadata": {
        "colab": {
          "base_uri": "https://localhost:8080/"
        },
        "id": "tO6a1QXxezLE",
        "outputId": "22b976bd-32a8-48e5-84c3-d006cdc20818"
      },
      "execution_count": 11,
      "outputs": [
        {
          "output_type": "stream",
          "name": "stdout",
          "text": [
            "['I', 'j', 'o', 'i', 'n', 'e', 'd', 'i', 'n', 'g', 'i', 't', 'a', 'm', 'i', 'n', '2', '0', '0', '7', 'a', 's', 'A', 's', 's', 'i', 's', 't', 'a', 'n', 't', 'P', 'r', 'o', 'f', 'e', 's', 's', 'o', 'r', 'a', 't', '9', 'A', 'm']\n"
          ]
        }
      ]
    },
    {
      "cell_type": "code",
      "source": [
        "import re\n",
        "pattern = r\"[a-p]\"  # Characters\n",
        "text = \" I joined in gitam in 2007 as Assistant Professor at 9 Am\"\n",
        "print(re.findall(pattern,text))\n"
      ],
      "metadata": {
        "colab": {
          "base_uri": "https://localhost:8080/"
        },
        "id": "WRwN6sgpfJuk",
        "outputId": "ffb3929e-3c34-4b15-92d5-948498042d00"
      },
      "execution_count": 12,
      "outputs": [
        {
          "output_type": "stream",
          "name": "stdout",
          "text": [
            "['j', 'o', 'i', 'n', 'e', 'd', 'i', 'n', 'g', 'i', 'a', 'm', 'i', 'n', 'a', 'i', 'a', 'n', 'o', 'f', 'e', 'o', 'a', 'm']\n"
          ]
        }
      ]
    },
    {
      "cell_type": "code",
      "source": [
        "import re\n",
        "pattern = r\"[a-p]|[0-9]\"  #number and digits\n",
        "text = \" I joined in gitam in 2007 as Assistant Professor at 9 Am\"\n",
        "print(re.findall(pattern,text))\n"
      ],
      "metadata": {
        "colab": {
          "base_uri": "https://localhost:8080/"
        },
        "id": "aNB_HkRGfNik",
        "outputId": "ed23da61-4a62-4ab5-e61f-a1a8452fd5d0"
      },
      "execution_count": 13,
      "outputs": [
        {
          "output_type": "stream",
          "name": "stdout",
          "text": [
            "['j', 'o', 'i', 'n', 'e', 'd', 'i', 'n', 'g', 'i', 'a', 'm', 'i', 'n', '2', '0', '0', '7', 'a', 'i', 'a', 'n', 'o', 'f', 'e', 'o', 'a', '9', 'm']\n"
          ]
        }
      ]
    },
    {
      "cell_type": "code",
      "source": [
        "import re\n",
        "pattern = r\"[A-Z]\"  #number and digits\n",
        "text = \" I joined in gitam in 2007 as Assistant Professor at 9 Am\"\n",
        "print(re.findall(pattern,text))\n"
      ],
      "metadata": {
        "colab": {
          "base_uri": "https://localhost:8080/"
        },
        "id": "dl3Me4HnfP4U",
        "outputId": "a62acd41-a3c3-4cc6-e855-96b2d767d032"
      },
      "execution_count": 14,
      "outputs": [
        {
          "output_type": "stream",
          "name": "stdout",
          "text": [
            "['I', 'A', 'P', 'A']\n"
          ]
        }
      ]
    },
    {
      "cell_type": "code",
      "source": [
        "import re\n",
        "pattern = r\"Assist\"  #useful in text mining\n",
        "text = \" I joined in gitam in 2007 as Assistant Professor at 9 Am Assist\"\n",
        "print(re.findall(pattern,text))\n"
      ],
      "metadata": {
        "colab": {
          "base_uri": "https://localhost:8080/"
        },
        "id": "Ao5W04S2fS7E",
        "outputId": "4cdef296-da00-4075-f9e5-256ebcb95a8e"
      },
      "execution_count": 15,
      "outputs": [
        {
          "output_type": "stream",
          "name": "stdout",
          "text": [
            "['Assist', 'Assist']\n"
          ]
        }
      ]
    },
    {
      "cell_type": "code",
      "source": [
        "import re\n",
        "pattern = r\"[^joined]\"  #begining\n",
        "text = \"I joined in gitam in 2007 as Assistant Professor at 9 Am Assist\"\n",
        "print(re.findall(pattern,text))\n"
      ],
      "metadata": {
        "colab": {
          "base_uri": "https://localhost:8080/"
        },
        "id": "lUCqZph1fVhU",
        "outputId": "77cb5633-5cd1-42ef-e6d9-6345aedc5bf7"
      },
      "execution_count": 34,
      "outputs": [
        {
          "output_type": "stream",
          "name": "stdout",
          "text": [
            "['I', ' ', ' ', ' ', 'g', 't', 'a', 'm', ' ', ' ', '2', '0', '0', '7', ' ', 'a', 's', ' ', 'A', 's', 's', 's', 't', 'a', 't', ' ', 'P', 'r', 'f', 's', 's', 'r', ' ', 'a', 't', ' ', '9', ' ', 'A', 'm', ' ', 'A', 's', 's', 's', 't']\n"
          ]
        }
      ]
    },
    {
      "cell_type": "code",
      "source": [
        "import re\n",
        "pattern = r\"[gitam$]\"  #ending\n",
        "text = \"I joined in gitam Gitam in 2007 as Assistant Professor at 9 Am Assist\"\n",
        "print(re.findall(pattern,text))\n",
        "\n"
      ],
      "metadata": {
        "colab": {
          "base_uri": "https://localhost:8080/"
        },
        "id": "WgA0NqaifYRk",
        "outputId": "c32261f4-65cc-4260-b3e8-fe28d9f99e2d"
      },
      "execution_count": 35,
      "outputs": [
        {
          "output_type": "stream",
          "name": "stdout",
          "text": [
            "['i', 'i', 'g', 'i', 't', 'a', 'm', 'i', 't', 'a', 'm', 'i', 'a', 'i', 't', 'a', 't', 'a', 't', 'm', 'i', 't']\n"
          ]
        }
      ]
    },
    {
      "cell_type": "code",
      "source": [
        "import re\n",
        "pattern = r\"Assist*\"  # likw 0 or more occurance of t followed by Assis\n",
        "text = \"I joined in gitam in 2007 as Assistant Professor at 9 Am Assis\"\n",
        "print(re.findall(pattern,text))\n"
      ],
      "metadata": {
        "colab": {
          "base_uri": "https://localhost:8080/"
        },
        "id": "gtBpBa33iAik",
        "outputId": "acedfbd9-2f8d-4e62-a287-fc13bfc3865e"
      },
      "execution_count": 36,
      "outputs": [
        {
          "output_type": "stream",
          "name": "stdout",
          "text": [
            "['Assist', 'Assis']\n"
          ]
        }
      ]
    },
    {
      "cell_type": "code",
      "source": [
        "import re\n",
        "pattern = r\"Assist+\"  # likw 1 or more occurance of t followed by Assis\n",
        "text = \"I joined in gitam in 2007 as assistant Professor at 9 Am Assis\"\n",
        "print(re.findall(pattern,text,re.IGNORECASE))\n"
      ],
      "metadata": {
        "colab": {
          "base_uri": "https://localhost:8080/"
        },
        "id": "fmZsUEtqlBRk",
        "outputId": "81c5ddbc-3864-40a1-f76a-85651ca2a031"
      },
      "execution_count": 37,
      "outputs": [
        {
          "output_type": "stream",
          "name": "stdout",
          "text": [
            "['assist']\n"
          ]
        }
      ]
    },
    {
      "cell_type": "code",
      "source": [
        "import re\n",
        "pattern = r\"[^A-Z]\"  #number and digits\n",
        "text = \" I joined in gitam in 2007 as Assistant Professor at 9 Am\"\n",
        "print(re.findall(pattern,text))\n"
      ],
      "metadata": {
        "colab": {
          "base_uri": "https://localhost:8080/"
        },
        "id": "8xDn695flDpU",
        "outputId": "44703f09-7b74-49d6-f160-e7b89bcba6b6"
      },
      "execution_count": 38,
      "outputs": [
        {
          "output_type": "stream",
          "name": "stdout",
          "text": [
            "[' ', ' ', 'j', 'o', 'i', 'n', 'e', 'd', ' ', 'i', 'n', ' ', 'g', 'i', 't', 'a', 'm', ' ', 'i', 'n', ' ', '2', '0', '0', '7', ' ', 'a', 's', ' ', 's', 's', 'i', 's', 't', 'a', 'n', 't', ' ', 'r', 'o', 'f', 'e', 's', 's', 'o', 'r', ' ', 'a', 't', ' ', '9', ' ', 'm']\n"
          ]
        }
      ]
    },
    {
      "cell_type": "code",
      "source": [
        "import re\n",
        "pattern = r\"[0-7][0-9]\"  #number and digits\n",
        "text = \" I got 78 marks out of 99 in nlp\"\n",
        "print(re.findall(pattern,text))\n"
      ],
      "metadata": {
        "colab": {
          "base_uri": "https://localhost:8080/"
        },
        "id": "4XVuKlJzlFl0",
        "outputId": "565bf047-a52f-4292-a47b-be78e5822b16"
      },
      "execution_count": 39,
      "outputs": [
        {
          "output_type": "stream",
          "name": "stdout",
          "text": [
            "['78']\n"
          ]
        }
      ]
    },
    {
      "cell_type": "code",
      "source": [
        "import re\n",
        "pattern = r\"[A-Z][A-Z][A-Z][A-Z][A-Z][0-0][0-9][0-0][0-9][A-Z]\"  #Pan number\n",
        "text = \" I got 78 marks out of 99 in nlp\"\n",
        "print(re.findall(pattern,text))\n"
      ],
      "metadata": {
        "colab": {
          "base_uri": "https://localhost:8080/"
        },
        "id": "iPQMQOvBlHtU",
        "outputId": "d0a10fc1-17db-4732-8962-fa0e6ecba06b"
      },
      "execution_count": 40,
      "outputs": [
        {
          "output_type": "stream",
          "name": "stdout",
          "text": [
            "[]\n"
          ]
        }
      ]
    },
    {
      "cell_type": "code",
      "source": [],
      "metadata": {
        "id": "_hYJhuZclJgz"
      },
      "execution_count": null,
      "outputs": []
    }
  ]
}