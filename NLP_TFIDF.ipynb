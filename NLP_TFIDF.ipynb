{
  "nbformat": 4,
  "nbformat_minor": 0,
  "metadata": {
    "colab": {
      "provenance": [],
      "authorship_tag": "ABX9TyOdQVGyrREs+3XeugV4yLDk",
      "include_colab_link": true
    },
    "kernelspec": {
      "name": "python3",
      "display_name": "Python 3"
    },
    "language_info": {
      "name": "python"
    }
  },
  "cells": [
    {
      "cell_type": "markdown",
      "metadata": {
        "id": "view-in-github",
        "colab_type": "text"
      },
      "source": [
        "<a href=\"https://colab.research.google.com/github/rajiv1817/NLP/blob/main/NLP_TFIDF.ipynb\" target=\"_parent\"><img src=\"https://colab.research.google.com/assets/colab-badge.svg\" alt=\"Open In Colab\"/></a>"
      ]
    },
    {
      "cell_type": "markdown",
      "source": [
        "122010304017-Rajiv"
      ],
      "metadata": {
        "id": "1ZM-U9awuyRV"
      }
    },
    {
      "cell_type": "code",
      "execution_count": 1,
      "metadata": {
        "id": "EMqGI5izupRt"
      },
      "outputs": [],
      "source": [
        "from sklearn.feature_extraction.text import TfidfVectorizer\n",
        "\n",
        "corpus = [\n",
        "    \"kolkata big city india trade\",\"mumbai financial capital india\",\"delhi capital india\",\"kolkata capital colonial times\",\n",
        "     \"bangalore tech hub india software\",\"mumbai hub trade commerce stock exchange\",\"kolkata victoria memorial\",\"delhi india gate\",\n",
        "      \"mumbai gate way india trade business\",\"delhi red fort india\",\"kolkata metro oldest india\",\n",
        "      \"delhi metro largest metro network india\"\n",
        "]\n"
      ]
    },
    {
      "cell_type": "code",
      "source": [
        "v = TfidfVectorizer()\n",
        "v.fit(corpus)\n",
        "transform_output = v.transform(corpus)\n"
      ],
      "metadata": {
        "id": "oahsKNISvXkt"
      },
      "execution_count": 2,
      "outputs": []
    },
    {
      "cell_type": "code",
      "source": [
        "print(v.vocabulary_)\n",
        "\n",
        "\n",
        "print(v.idf_)\n",
        "\n"
      ],
      "metadata": {
        "colab": {
          "base_uri": "https://localhost:8080/",
          "height": 0
        },
        "id": "rcVCQz1jvmp4",
        "outputId": "a7186bd5-7d04-47dc-8700-49fe7499438c"
      },
      "execution_count": 3,
      "outputs": [
        {
          "output_type": "stream",
          "name": "stdout",
          "text": [
            "{'kolkata': 14, 'big': 1, 'city': 4, 'india': 13, 'trade': 26, 'mumbai': 18, 'financial': 9, 'capital': 3, 'delhi': 7, 'colonial': 5, 'times': 25, 'bangalore': 0, 'tech': 24, 'hub': 12, 'software': 22, 'commerce': 6, 'stock': 23, 'exchange': 8, 'victoria': 27, 'memorial': 16, 'gate': 11, 'way': 28, 'business': 2, 'red': 21, 'fort': 10, 'metro': 17, 'oldest': 20, 'largest': 15, 'network': 19}\n",
            "[2.87180218 2.87180218 2.87180218 2.178655   2.87180218 2.87180218\n",
            " 2.87180218 1.95551145 2.87180218 2.87180218 2.87180218 2.46633707\n",
            " 2.46633707 1.26236426 1.95551145 2.87180218 2.87180218 2.46633707\n",
            " 2.178655   2.87180218 2.87180218 2.87180218 2.87180218 2.87180218\n",
            " 2.87180218 2.87180218 2.178655   2.87180218 2.87180218]\n"
          ]
        }
      ]
    },
    {
      "cell_type": "code",
      "source": [
        "all_feature_names = v.get_feature_names_out()\n",
        "\n",
        "for word in all_feature_names:\n",
        "\n",
        "    #let's get the index in the vocabulary\n",
        "    indx = v.vocabulary_.get(word)\n",
        "\n",
        "    #get the score\n",
        "    idf_score = v.idf_[indx]\n",
        "\n",
        "    print(f\"{word} : {idf_score}\")\n"
      ],
      "metadata": {
        "colab": {
          "base_uri": "https://localhost:8080/",
          "height": 0
        },
        "id": "OQ_RkmTIvpJw",
        "outputId": "a9585387-f5ce-4dca-b1e5-2e2a5629fdcc"
      },
      "execution_count": 4,
      "outputs": [
        {
          "output_type": "stream",
          "name": "stdout",
          "text": [
            "bangalore : 2.8718021769015913\n",
            "big : 2.8718021769015913\n",
            "business : 2.8718021769015913\n",
            "capital : 2.1786549963416464\n",
            "city : 2.8718021769015913\n",
            "colonial : 2.8718021769015913\n",
            "commerce : 2.8718021769015913\n",
            "delhi : 1.9555114450274362\n",
            "exchange : 2.8718021769015913\n",
            "financial : 2.8718021769015913\n",
            "fort : 2.8718021769015913\n",
            "gate : 2.466337068793427\n",
            "hub : 2.466337068793427\n",
            "india : 1.262364264467491\n",
            "kolkata : 1.9555114450274362\n",
            "largest : 2.8718021769015913\n",
            "memorial : 2.8718021769015913\n",
            "metro : 2.466337068793427\n",
            "mumbai : 2.1786549963416464\n",
            "network : 2.8718021769015913\n",
            "oldest : 2.8718021769015913\n",
            "red : 2.8718021769015913\n",
            "software : 2.8718021769015913\n",
            "stock : 2.8718021769015913\n",
            "tech : 2.8718021769015913\n",
            "times : 2.8718021769015913\n",
            "trade : 2.1786549963416464\n",
            "victoria : 2.8718021769015913\n",
            "way : 2.8718021769015913\n"
          ]
        }
      ]
    },
    {
      "cell_type": "code",
      "source": [
        "print(transform_output.toarray())"
      ],
      "metadata": {
        "colab": {
          "base_uri": "https://localhost:8080/",
          "height": 0
        },
        "id": "D7MS5JNYvsNX",
        "outputId": "03f55f1e-f2b4-4727-8311-e0a4bf8597cf"
      },
      "execution_count": 5,
      "outputs": [
        {
          "output_type": "stream",
          "name": "stdout",
          "text": [
            "[[0.         0.55620601 0.         0.         0.55620601 0.\n",
            "  0.         0.         0.         0.         0.         0.\n",
            "  0.         0.24449267 0.3787403  0.         0.         0.\n",
            "  0.         0.         0.         0.         0.         0.\n",
            "  0.         0.         0.42195838 0.         0.        ]\n",
            " [0.         0.         0.         0.49548314 0.         0.\n",
            "  0.         0.         0.         0.65312294 0.         0.\n",
            "  0.         0.28709466 0.         0.         0.         0.\n",
            "  0.49548314 0.         0.         0.         0.         0.\n",
            "  0.         0.         0.         0.         0.        ]\n",
            " [0.         0.         0.         0.68336611 0.         0.\n",
            "  0.         0.61337397 0.         0.         0.         0.\n",
            "  0.         0.3959585  0.         0.         0.         0.\n",
            "  0.         0.         0.         0.         0.         0.\n",
            "  0.         0.         0.         0.         0.        ]\n",
            " [0.         0.         0.         0.43516515 0.         0.57361455\n",
            "  0.         0.         0.         0.         0.         0.\n",
            "  0.         0.         0.39059439 0.         0.         0.\n",
            "  0.         0.         0.         0.         0.         0.\n",
            "  0.         0.57361455 0.         0.         0.        ]\n",
            " [0.50438315 0.         0.         0.         0.         0.\n",
            "  0.         0.         0.         0.         0.         0.\n",
            "  0.43317011 0.22171279 0.         0.         0.         0.\n",
            "  0.         0.         0.         0.         0.50438315 0.\n",
            "  0.50438315 0.         0.         0.         0.        ]\n",
            " [0.         0.         0.         0.         0.         0.\n",
            "  0.45227959 0.         0.45227959 0.         0.         0.\n",
            "  0.38842296 0.         0.         0.         0.         0.\n",
            "  0.34311597 0.         0.         0.         0.         0.45227959\n",
            "  0.         0.         0.34311597 0.         0.        ]\n",
            " [0.         0.         0.         0.         0.         0.\n",
            "  0.         0.         0.         0.         0.         0.\n",
            "  0.         0.         0.43382475 0.         0.63710128 0.\n",
            "  0.         0.         0.         0.         0.         0.\n",
            "  0.         0.         0.         0.63710128 0.        ]\n",
            " [0.         0.         0.         0.         0.         0.\n",
            "  0.         0.57663866 0.         0.         0.         0.72727025\n",
            "  0.         0.37224432 0.         0.         0.         0.\n",
            "  0.         0.         0.         0.         0.         0.\n",
            "  0.         0.         0.         0.         0.        ]\n",
            " [0.         0.         0.49496212 0.         0.         0.\n",
            "  0.         0.         0.         0.         0.         0.42507922\n",
            "  0.         0.21757157 0.         0.         0.         0.\n",
            "  0.37549651 0.         0.         0.         0.         0.\n",
            "  0.         0.         0.37549651 0.         0.49496212]\n",
            " [0.         0.         0.         0.         0.         0.\n",
            "  0.         0.41775198 0.         0.         0.61349733 0.\n",
            "  0.         0.26967634 0.         0.         0.         0.\n",
            "  0.         0.         0.         0.61349733 0.         0.\n",
            "  0.         0.         0.         0.         0.        ]\n",
            " [0.         0.         0.         0.         0.         0.\n",
            "  0.         0.         0.         0.         0.         0.\n",
            "  0.         0.28407102 0.44005058 0.         0.         0.55500215\n",
            "  0.         0.         0.64624435 0.         0.         0.\n",
            "  0.         0.         0.         0.         0.        ]\n",
            " [0.         0.         0.         0.         0.         0.\n",
            "  0.         0.28756477 0.         0.         0.         0.\n",
            "  0.         0.18563506 0.         0.42230851 0.         0.72536692\n",
            "  0.         0.42230851 0.         0.         0.         0.\n",
            "  0.         0.         0.         0.         0.        ]]\n"
          ]
        }
      ]
    },
    {
      "cell_type": "code",
      "source": [
        "import pandas as pd\n",
        "import numpy as np\n",
        "#read the data into a pandas dataframe\n"
      ],
      "metadata": {
        "id": "AqYya7SmwDjW"
      },
      "execution_count": 6,
      "outputs": []
    },
    {
      "cell_type": "code",
      "source": [
        "from google.colab import files\n",
        "uploaded = files.upload()"
      ],
      "metadata": {
        "colab": {
          "base_uri": "https://localhost:8080/",
          "height": 73
        },
        "id": "ZeuPrelswGFQ",
        "outputId": "fa4365ca-cafb-4e27-9152-5d8b0d849d67"
      },
      "execution_count": 16,
      "outputs": [
        {
          "output_type": "display_data",
          "data": {
            "text/plain": [
              "<IPython.core.display.HTML object>"
            ],
            "text/html": [
              "\n",
              "     <input type=\"file\" id=\"files-7af91d09-1ddb-43a6-8c81-0ac9a8cabd5d\" name=\"files[]\" multiple disabled\n",
              "        style=\"border:none\" />\n",
              "     <output id=\"result-7af91d09-1ddb-43a6-8c81-0ac9a8cabd5d\">\n",
              "      Upload widget is only available when the cell has been executed in the\n",
              "      current browser session. Please rerun this cell to enable.\n",
              "      </output>\n",
              "      <script>// Copyright 2017 Google LLC\n",
              "//\n",
              "// Licensed under the Apache License, Version 2.0 (the \"License\");\n",
              "// you may not use this file except in compliance with the License.\n",
              "// You may obtain a copy of the License at\n",
              "//\n",
              "//      http://www.apache.org/licenses/LICENSE-2.0\n",
              "//\n",
              "// Unless required by applicable law or agreed to in writing, software\n",
              "// distributed under the License is distributed on an \"AS IS\" BASIS,\n",
              "// WITHOUT WARRANTIES OR CONDITIONS OF ANY KIND, either express or implied.\n",
              "// See the License for the specific language governing permissions and\n",
              "// limitations under the License.\n",
              "\n",
              "/**\n",
              " * @fileoverview Helpers for google.colab Python module.\n",
              " */\n",
              "(function(scope) {\n",
              "function span(text, styleAttributes = {}) {\n",
              "  const element = document.createElement('span');\n",
              "  element.textContent = text;\n",
              "  for (const key of Object.keys(styleAttributes)) {\n",
              "    element.style[key] = styleAttributes[key];\n",
              "  }\n",
              "  return element;\n",
              "}\n",
              "\n",
              "// Max number of bytes which will be uploaded at a time.\n",
              "const MAX_PAYLOAD_SIZE = 100 * 1024;\n",
              "\n",
              "function _uploadFiles(inputId, outputId) {\n",
              "  const steps = uploadFilesStep(inputId, outputId);\n",
              "  const outputElement = document.getElementById(outputId);\n",
              "  // Cache steps on the outputElement to make it available for the next call\n",
              "  // to uploadFilesContinue from Python.\n",
              "  outputElement.steps = steps;\n",
              "\n",
              "  return _uploadFilesContinue(outputId);\n",
              "}\n",
              "\n",
              "// This is roughly an async generator (not supported in the browser yet),\n",
              "// where there are multiple asynchronous steps and the Python side is going\n",
              "// to poll for completion of each step.\n",
              "// This uses a Promise to block the python side on completion of each step,\n",
              "// then passes the result of the previous step as the input to the next step.\n",
              "function _uploadFilesContinue(outputId) {\n",
              "  const outputElement = document.getElementById(outputId);\n",
              "  const steps = outputElement.steps;\n",
              "\n",
              "  const next = steps.next(outputElement.lastPromiseValue);\n",
              "  return Promise.resolve(next.value.promise).then((value) => {\n",
              "    // Cache the last promise value to make it available to the next\n",
              "    // step of the generator.\n",
              "    outputElement.lastPromiseValue = value;\n",
              "    return next.value.response;\n",
              "  });\n",
              "}\n",
              "\n",
              "/**\n",
              " * Generator function which is called between each async step of the upload\n",
              " * process.\n",
              " * @param {string} inputId Element ID of the input file picker element.\n",
              " * @param {string} outputId Element ID of the output display.\n",
              " * @return {!Iterable<!Object>} Iterable of next steps.\n",
              " */\n",
              "function* uploadFilesStep(inputId, outputId) {\n",
              "  const inputElement = document.getElementById(inputId);\n",
              "  inputElement.disabled = false;\n",
              "\n",
              "  const outputElement = document.getElementById(outputId);\n",
              "  outputElement.innerHTML = '';\n",
              "\n",
              "  const pickedPromise = new Promise((resolve) => {\n",
              "    inputElement.addEventListener('change', (e) => {\n",
              "      resolve(e.target.files);\n",
              "    });\n",
              "  });\n",
              "\n",
              "  const cancel = document.createElement('button');\n",
              "  inputElement.parentElement.appendChild(cancel);\n",
              "  cancel.textContent = 'Cancel upload';\n",
              "  const cancelPromise = new Promise((resolve) => {\n",
              "    cancel.onclick = () => {\n",
              "      resolve(null);\n",
              "    };\n",
              "  });\n",
              "\n",
              "  // Wait for the user to pick the files.\n",
              "  const files = yield {\n",
              "    promise: Promise.race([pickedPromise, cancelPromise]),\n",
              "    response: {\n",
              "      action: 'starting',\n",
              "    }\n",
              "  };\n",
              "\n",
              "  cancel.remove();\n",
              "\n",
              "  // Disable the input element since further picks are not allowed.\n",
              "  inputElement.disabled = true;\n",
              "\n",
              "  if (!files) {\n",
              "    return {\n",
              "      response: {\n",
              "        action: 'complete',\n",
              "      }\n",
              "    };\n",
              "  }\n",
              "\n",
              "  for (const file of files) {\n",
              "    const li = document.createElement('li');\n",
              "    li.append(span(file.name, {fontWeight: 'bold'}));\n",
              "    li.append(span(\n",
              "        `(${file.type || 'n/a'}) - ${file.size} bytes, ` +\n",
              "        `last modified: ${\n",
              "            file.lastModifiedDate ? file.lastModifiedDate.toLocaleDateString() :\n",
              "                                    'n/a'} - `));\n",
              "    const percent = span('0% done');\n",
              "    li.appendChild(percent);\n",
              "\n",
              "    outputElement.appendChild(li);\n",
              "\n",
              "    const fileDataPromise = new Promise((resolve) => {\n",
              "      const reader = new FileReader();\n",
              "      reader.onload = (e) => {\n",
              "        resolve(e.target.result);\n",
              "      };\n",
              "      reader.readAsArrayBuffer(file);\n",
              "    });\n",
              "    // Wait for the data to be ready.\n",
              "    let fileData = yield {\n",
              "      promise: fileDataPromise,\n",
              "      response: {\n",
              "        action: 'continue',\n",
              "      }\n",
              "    };\n",
              "\n",
              "    // Use a chunked sending to avoid message size limits. See b/62115660.\n",
              "    let position = 0;\n",
              "    do {\n",
              "      const length = Math.min(fileData.byteLength - position, MAX_PAYLOAD_SIZE);\n",
              "      const chunk = new Uint8Array(fileData, position, length);\n",
              "      position += length;\n",
              "\n",
              "      const base64 = btoa(String.fromCharCode.apply(null, chunk));\n",
              "      yield {\n",
              "        response: {\n",
              "          action: 'append',\n",
              "          file: file.name,\n",
              "          data: base64,\n",
              "        },\n",
              "      };\n",
              "\n",
              "      let percentDone = fileData.byteLength === 0 ?\n",
              "          100 :\n",
              "          Math.round((position / fileData.byteLength) * 100);\n",
              "      percent.textContent = `${percentDone}% done`;\n",
              "\n",
              "    } while (position < fileData.byteLength);\n",
              "  }\n",
              "\n",
              "  // All done.\n",
              "  yield {\n",
              "    response: {\n",
              "      action: 'complete',\n",
              "    }\n",
              "  };\n",
              "}\n",
              "\n",
              "scope.google = scope.google || {};\n",
              "scope.google.colab = scope.google.colab || {};\n",
              "scope.google.colab._files = {\n",
              "  _uploadFiles,\n",
              "  _uploadFilesContinue,\n",
              "};\n",
              "})(self);\n",
              "</script> "
            ]
          },
          "metadata": {}
        },
        {
          "output_type": "stream",
          "name": "stdout",
          "text": [
            "Saving BBC News Train.csv to BBC News Train (1).csv\n"
          ]
        }
      ]
    },
    {
      "cell_type": "code",
      "source": [
        "df = pd.read_csv(\"BBC News Train.csv\")\n",
        "print(df.shape)\n",
        "df.head(5)\n"
      ],
      "metadata": {
        "colab": {
          "base_uri": "https://localhost:8080/",
          "height": 223
        },
        "id": "GQhcklqewIej",
        "outputId": "5e5da8c2-c1d0-48d7-e236-0d0aa3ef8e4d"
      },
      "execution_count": 17,
      "outputs": [
        {
          "output_type": "stream",
          "name": "stdout",
          "text": [
            "(1490, 3)\n"
          ]
        },
        {
          "output_type": "execute_result",
          "data": {
            "text/plain": [
              "   ArticleId                                               Text  Category\n",
              "0       1833  worldcom ex-boss launches defence lawyers defe...  business\n",
              "1        154  german business confidence slides german busin...  business\n",
              "2       1101  bbc poll indicates economic gloom citizens in ...  business\n",
              "3       1976  lifestyle  governs mobile choice  faster  bett...      tech\n",
              "4        917  enron bosses in $168m payout eighteen former e...  business"
            ],
            "text/html": [
              "\n",
              "  <div id=\"df-75fe7f2b-d519-4926-be10-16f4d893e641\" class=\"colab-df-container\">\n",
              "    <div>\n",
              "<style scoped>\n",
              "    .dataframe tbody tr th:only-of-type {\n",
              "        vertical-align: middle;\n",
              "    }\n",
              "\n",
              "    .dataframe tbody tr th {\n",
              "        vertical-align: top;\n",
              "    }\n",
              "\n",
              "    .dataframe thead th {\n",
              "        text-align: right;\n",
              "    }\n",
              "</style>\n",
              "<table border=\"1\" class=\"dataframe\">\n",
              "  <thead>\n",
              "    <tr style=\"text-align: right;\">\n",
              "      <th></th>\n",
              "      <th>ArticleId</th>\n",
              "      <th>Text</th>\n",
              "      <th>Category</th>\n",
              "    </tr>\n",
              "  </thead>\n",
              "  <tbody>\n",
              "    <tr>\n",
              "      <th>0</th>\n",
              "      <td>1833</td>\n",
              "      <td>worldcom ex-boss launches defence lawyers defe...</td>\n",
              "      <td>business</td>\n",
              "    </tr>\n",
              "    <tr>\n",
              "      <th>1</th>\n",
              "      <td>154</td>\n",
              "      <td>german business confidence slides german busin...</td>\n",
              "      <td>business</td>\n",
              "    </tr>\n",
              "    <tr>\n",
              "      <th>2</th>\n",
              "      <td>1101</td>\n",
              "      <td>bbc poll indicates economic gloom citizens in ...</td>\n",
              "      <td>business</td>\n",
              "    </tr>\n",
              "    <tr>\n",
              "      <th>3</th>\n",
              "      <td>1976</td>\n",
              "      <td>lifestyle  governs mobile choice  faster  bett...</td>\n",
              "      <td>tech</td>\n",
              "    </tr>\n",
              "    <tr>\n",
              "      <th>4</th>\n",
              "      <td>917</td>\n",
              "      <td>enron bosses in $168m payout eighteen former e...</td>\n",
              "      <td>business</td>\n",
              "    </tr>\n",
              "  </tbody>\n",
              "</table>\n",
              "</div>\n",
              "    <div class=\"colab-df-buttons\">\n",
              "\n",
              "  <div class=\"colab-df-container\">\n",
              "    <button class=\"colab-df-convert\" onclick=\"convertToInteractive('df-75fe7f2b-d519-4926-be10-16f4d893e641')\"\n",
              "            title=\"Convert this dataframe to an interactive table.\"\n",
              "            style=\"display:none;\">\n",
              "\n",
              "  <svg xmlns=\"http://www.w3.org/2000/svg\" height=\"24px\" viewBox=\"0 -960 960 960\">\n",
              "    <path d=\"M120-120v-720h720v720H120Zm60-500h600v-160H180v160Zm220 220h160v-160H400v160Zm0 220h160v-160H400v160ZM180-400h160v-160H180v160Zm440 0h160v-160H620v160ZM180-180h160v-160H180v160Zm440 0h160v-160H620v160Z\"/>\n",
              "  </svg>\n",
              "    </button>\n",
              "\n",
              "  <style>\n",
              "    .colab-df-container {\n",
              "      display:flex;\n",
              "      gap: 12px;\n",
              "    }\n",
              "\n",
              "    .colab-df-convert {\n",
              "      background-color: #E8F0FE;\n",
              "      border: none;\n",
              "      border-radius: 50%;\n",
              "      cursor: pointer;\n",
              "      display: none;\n",
              "      fill: #1967D2;\n",
              "      height: 32px;\n",
              "      padding: 0 0 0 0;\n",
              "      width: 32px;\n",
              "    }\n",
              "\n",
              "    .colab-df-convert:hover {\n",
              "      background-color: #E2EBFA;\n",
              "      box-shadow: 0px 1px 2px rgba(60, 64, 67, 0.3), 0px 1px 3px 1px rgba(60, 64, 67, 0.15);\n",
              "      fill: #174EA6;\n",
              "    }\n",
              "\n",
              "    .colab-df-buttons div {\n",
              "      margin-bottom: 4px;\n",
              "    }\n",
              "\n",
              "    [theme=dark] .colab-df-convert {\n",
              "      background-color: #3B4455;\n",
              "      fill: #D2E3FC;\n",
              "    }\n",
              "\n",
              "    [theme=dark] .colab-df-convert:hover {\n",
              "      background-color: #434B5C;\n",
              "      box-shadow: 0px 1px 3px 1px rgba(0, 0, 0, 0.15);\n",
              "      filter: drop-shadow(0px 1px 2px rgba(0, 0, 0, 0.3));\n",
              "      fill: #FFFFFF;\n",
              "    }\n",
              "  </style>\n",
              "\n",
              "    <script>\n",
              "      const buttonEl =\n",
              "        document.querySelector('#df-75fe7f2b-d519-4926-be10-16f4d893e641 button.colab-df-convert');\n",
              "      buttonEl.style.display =\n",
              "        google.colab.kernel.accessAllowed ? 'block' : 'none';\n",
              "\n",
              "      async function convertToInteractive(key) {\n",
              "        const element = document.querySelector('#df-75fe7f2b-d519-4926-be10-16f4d893e641');\n",
              "        const dataTable =\n",
              "          await google.colab.kernel.invokeFunction('convertToInteractive',\n",
              "                                                    [key], {});\n",
              "        if (!dataTable) return;\n",
              "\n",
              "        const docLinkHtml = 'Like what you see? Visit the ' +\n",
              "          '<a target=\"_blank\" href=https://colab.research.google.com/notebooks/data_table.ipynb>data table notebook</a>'\n",
              "          + ' to learn more about interactive tables.';\n",
              "        element.innerHTML = '';\n",
              "        dataTable['output_type'] = 'display_data';\n",
              "        await google.colab.output.renderOutput(dataTable, element);\n",
              "        const docLink = document.createElement('div');\n",
              "        docLink.innerHTML = docLinkHtml;\n",
              "        element.appendChild(docLink);\n",
              "      }\n",
              "    </script>\n",
              "  </div>\n",
              "\n",
              "\n",
              "<div id=\"df-8029bd49-310a-4fe6-9636-0ce808f5c1a9\">\n",
              "  <button class=\"colab-df-quickchart\" onclick=\"quickchart('df-8029bd49-310a-4fe6-9636-0ce808f5c1a9')\"\n",
              "            title=\"Suggest charts.\"\n",
              "            style=\"display:none;\">\n",
              "\n",
              "<svg xmlns=\"http://www.w3.org/2000/svg\" height=\"24px\"viewBox=\"0 0 24 24\"\n",
              "     width=\"24px\">\n",
              "    <g>\n",
              "        <path d=\"M19 3H5c-1.1 0-2 .9-2 2v14c0 1.1.9 2 2 2h14c1.1 0 2-.9 2-2V5c0-1.1-.9-2-2-2zM9 17H7v-7h2v7zm4 0h-2V7h2v10zm4 0h-2v-4h2v4z\"/>\n",
              "    </g>\n",
              "</svg>\n",
              "  </button>\n",
              "\n",
              "<style>\n",
              "  .colab-df-quickchart {\n",
              "      --bg-color: #E8F0FE;\n",
              "      --fill-color: #1967D2;\n",
              "      --hover-bg-color: #E2EBFA;\n",
              "      --hover-fill-color: #174EA6;\n",
              "      --disabled-fill-color: #AAA;\n",
              "      --disabled-bg-color: #DDD;\n",
              "  }\n",
              "\n",
              "  [theme=dark] .colab-df-quickchart {\n",
              "      --bg-color: #3B4455;\n",
              "      --fill-color: #D2E3FC;\n",
              "      --hover-bg-color: #434B5C;\n",
              "      --hover-fill-color: #FFFFFF;\n",
              "      --disabled-bg-color: #3B4455;\n",
              "      --disabled-fill-color: #666;\n",
              "  }\n",
              "\n",
              "  .colab-df-quickchart {\n",
              "    background-color: var(--bg-color);\n",
              "    border: none;\n",
              "    border-radius: 50%;\n",
              "    cursor: pointer;\n",
              "    display: none;\n",
              "    fill: var(--fill-color);\n",
              "    height: 32px;\n",
              "    padding: 0;\n",
              "    width: 32px;\n",
              "  }\n",
              "\n",
              "  .colab-df-quickchart:hover {\n",
              "    background-color: var(--hover-bg-color);\n",
              "    box-shadow: 0 1px 2px rgba(60, 64, 67, 0.3), 0 1px 3px 1px rgba(60, 64, 67, 0.15);\n",
              "    fill: var(--button-hover-fill-color);\n",
              "  }\n",
              "\n",
              "  .colab-df-quickchart-complete:disabled,\n",
              "  .colab-df-quickchart-complete:disabled:hover {\n",
              "    background-color: var(--disabled-bg-color);\n",
              "    fill: var(--disabled-fill-color);\n",
              "    box-shadow: none;\n",
              "  }\n",
              "\n",
              "  .colab-df-spinner {\n",
              "    border: 2px solid var(--fill-color);\n",
              "    border-color: transparent;\n",
              "    border-bottom-color: var(--fill-color);\n",
              "    animation:\n",
              "      spin 1s steps(1) infinite;\n",
              "  }\n",
              "\n",
              "  @keyframes spin {\n",
              "    0% {\n",
              "      border-color: transparent;\n",
              "      border-bottom-color: var(--fill-color);\n",
              "      border-left-color: var(--fill-color);\n",
              "    }\n",
              "    20% {\n",
              "      border-color: transparent;\n",
              "      border-left-color: var(--fill-color);\n",
              "      border-top-color: var(--fill-color);\n",
              "    }\n",
              "    30% {\n",
              "      border-color: transparent;\n",
              "      border-left-color: var(--fill-color);\n",
              "      border-top-color: var(--fill-color);\n",
              "      border-right-color: var(--fill-color);\n",
              "    }\n",
              "    40% {\n",
              "      border-color: transparent;\n",
              "      border-right-color: var(--fill-color);\n",
              "      border-top-color: var(--fill-color);\n",
              "    }\n",
              "    60% {\n",
              "      border-color: transparent;\n",
              "      border-right-color: var(--fill-color);\n",
              "    }\n",
              "    80% {\n",
              "      border-color: transparent;\n",
              "      border-right-color: var(--fill-color);\n",
              "      border-bottom-color: var(--fill-color);\n",
              "    }\n",
              "    90% {\n",
              "      border-color: transparent;\n",
              "      border-bottom-color: var(--fill-color);\n",
              "    }\n",
              "  }\n",
              "</style>\n",
              "\n",
              "  <script>\n",
              "    async function quickchart(key) {\n",
              "      const quickchartButtonEl =\n",
              "        document.querySelector('#' + key + ' button');\n",
              "      quickchartButtonEl.disabled = true;  // To prevent multiple clicks.\n",
              "      quickchartButtonEl.classList.add('colab-df-spinner');\n",
              "      try {\n",
              "        const charts = await google.colab.kernel.invokeFunction(\n",
              "            'suggestCharts', [key], {});\n",
              "      } catch (error) {\n",
              "        console.error('Error during call to suggestCharts:', error);\n",
              "      }\n",
              "      quickchartButtonEl.classList.remove('colab-df-spinner');\n",
              "      quickchartButtonEl.classList.add('colab-df-quickchart-complete');\n",
              "    }\n",
              "    (() => {\n",
              "      let quickchartButtonEl =\n",
              "        document.querySelector('#df-8029bd49-310a-4fe6-9636-0ce808f5c1a9 button');\n",
              "      quickchartButtonEl.style.display =\n",
              "        google.colab.kernel.accessAllowed ? 'block' : 'none';\n",
              "    })();\n",
              "  </script>\n",
              "</div>\n",
              "    </div>\n",
              "  </div>\n"
            ]
          },
          "metadata": {},
          "execution_count": 17
        }
      ]
    },
    {
      "cell_type": "code",
      "source": [
        "import matplotlib.pyplot as plt\n",
        "df.groupby('Category').Category.value_counts().plot(kind = \"bar\", color = [\"pink\", \"orange\", \"red\", \"yellow\", \"blue\"])\n",
        "plt.xlabel(\"Category of data\")\n",
        "plt.title(\"Visulaize numbers of Category of data\")\n",
        "plt.show()\n"
      ],
      "metadata": {
        "colab": {
          "base_uri": "https://localhost:8080/",
          "height": 677
        },
        "id": "8ggVlpEjwwMP",
        "outputId": "fcc38fbe-9ffb-4213-baa8-d08d0eab4e38"
      },
      "execution_count": 18,
      "outputs": [
        {
          "output_type": "display_data",
          "data": {
            "text/plain": [
              "<Figure size 640x480 with 1 Axes>"
            ],
            "image/png": "[encoded data removed]"
          },
          "metadata": {}
        }
      ]
    },
    {
      "cell_type": "code",
      "source": [
        "from sklearn.feature_extraction.text import TfidfVectorizer\n",
        "x = np.array(df.iloc[:,0].values)\n",
        "y = np.array(df.Category.values)\n",
        "tfidf = TfidfVectorizer(max_features = 5000)\n",
        "x = tfidf.fit_transform(df.Text).toarray()\n",
        "print(\"X.shape = \",x.shape)\n",
        "print(\"y.shape = \",y.shape)\n",
        "\n",
        "from sklearn.model_selection import train_test_split\n",
        "x_train, x_test, y_train, y_test = train_test_split(x, y, test_size = 0.2, random_state = 0, shuffle = True)\n",
        "print(len(x_train))\n",
        "print(len(x_test))\n"
      ],
      "metadata": {
        "colab": {
          "base_uri": "https://localhost:8080/",
          "height": 0
        },
        "id": "KpeObSsk0oJA",
        "outputId": "f7e59898-e1f7-4536-c63e-51cc956047ff"
      },
      "execution_count": 19,
      "outputs": [
        {
          "output_type": "stream",
          "name": "stdout",
          "text": [
            "X.shape =  (1490, 5000)\n",
            "y.shape =  (1490,)\n",
            "1192\n",
            "298\n"
          ]
        }
      ]
    },
    {
      "cell_type": "code",
      "source": [
        "from sklearn.ensemble import RandomForestClassifier\n",
        "#from sklearn.neighbors import KNeighborsClassifier\n",
        "classifier = RandomForestClassifier(n_estimators=100 ,criterion='entropy' , random_state=0).fit(x_train, y_train)\n",
        "classifier\n",
        "y_pred = classifier.predict(x_test)\n",
        "print(y_pred)\n",
        "classifier.score(x,y)\n"
      ],
      "metadata": {
        "colab": {
          "base_uri": "https://localhost:8080/",
          "height": 0
        },
        "id": "bAYwVPAd0p8M",
        "outputId": "373c0d19-5eff-4592-e39d-8a859a40b696"
      },
      "execution_count": 20,
      "outputs": [
        {
          "output_type": "stream",
          "name": "stdout",
          "text": [
            "['entertainment' 'politics' 'sport' 'politics' 'sport' 'business'\n",
            " 'business' 'tech' 'entertainment' 'business' 'sport' 'entertainment'\n",
            " 'politics' 'tech' 'sport' 'tech' 'business' 'entertainment' 'business'\n",
            " 'entertainment' 'tech' 'tech' 'entertainment' 'tech' 'business'\n",
            " 'business' 'politics' 'sport' 'entertainment' 'tech' 'entertainment'\n",
            " 'sport' 'sport' 'entertainment' 'entertainment' 'business' 'business'\n",
            " 'business' 'business' 'tech' 'sport' 'business' 'politics' 'business'\n",
            " 'sport' 'entertainment' 'sport' 'entertainment' 'tech' 'sport' 'politics'\n",
            " 'sport' 'entertainment' 'sport' 'sport' 'entertainment' 'entertainment'\n",
            " 'politics' 'sport' 'entertainment' 'sport' 'tech' 'sport' 'business'\n",
            " 'sport' 'tech' 'business' 'tech' 'business' 'entertainment' 'sport'\n",
            " 'sport' 'entertainment' 'tech' 'tech' 'politics' 'politics' 'politics'\n",
            " 'entertainment' 'tech' 'business' 'tech' 'entertainment' 'entertainment'\n",
            " 'entertainment' 'sport' 'tech' 'business' 'business' 'business'\n",
            " 'business' 'business' 'politics' 'entertainment' 'politics' 'sport'\n",
            " 'business' 'tech' 'entertainment' 'politics' 'entertainment' 'business'\n",
            " 'business' 'sport' 'politics' 'business' 'sport' 'tech' 'politics'\n",
            " 'business' 'entertainment' 'entertainment' 'politics' 'politics'\n",
            " 'entertainment' 'entertainment' 'entertainment' 'entertainment' 'tech'\n",
            " 'politics' 'politics' 'business' 'politics' 'sport' 'tech' 'tech' 'sport'\n",
            " 'sport' 'sport' 'sport' 'sport' 'sport' 'business' 'politics' 'sport'\n",
            " 'sport' 'sport' 'tech' 'sport' 'politics' 'business' 'sport' 'politics'\n",
            " 'business' 'entertainment' 'business' 'tech' 'entertainment' 'politics'\n",
            " 'tech' 'sport' 'sport' 'sport' 'politics' 'sport' 'sport' 'business'\n",
            " 'entertainment' 'entertainment' 'business' 'entertainment' 'business'\n",
            " 'sport' 'business' 'sport' 'sport' 'business' 'politics' 'sport'\n",
            " 'business' 'business' 'entertainment' 'sport' 'business' 'business'\n",
            " 'entertainment' 'tech' 'politics' 'business' 'sport' 'tech' 'tech' 'tech'\n",
            " 'politics' 'tech' 'sport' 'business' 'business' 'entertainment' 'sport'\n",
            " 'politics' 'entertainment' 'politics' 'tech' 'business' 'politics'\n",
            " 'politics' 'sport' 'entertainment' 'politics' 'business' 'sport' 'tech'\n",
            " 'politics' 'sport' 'business' 'sport' 'entertainment' 'business' 'tech'\n",
            " 'entertainment' 'business' 'business' 'tech' 'business' 'politics' 'tech'\n",
            " 'entertainment' 'sport' 'politics' 'entertainment' 'entertainment' 'tech'\n",
            " 'politics' 'business' 'business' 'politics' 'tech' 'entertainment'\n",
            " 'sport' 'sport' 'politics' 'politics' 'tech' 'politics' 'tech' 'sport'\n",
            " 'entertainment' 'tech' 'politics' 'entertainment' 'business' 'sport'\n",
            " 'sport' 'sport' 'tech' 'business' 'politics' 'entertainment' 'politics'\n",
            " 'business' 'tech' 'tech' 'business' 'politics' 'sport' 'politics'\n",
            " 'business' 'business' 'entertainment' 'business' 'tech' 'sport' 'tech'\n",
            " 'sport' 'business' 'business' 'business' 'tech' 'politics' 'politics'\n",
            " 'politics' 'business' 'sport' 'politics' 'sport' 'politics'\n",
            " 'entertainment' 'entertainment' 'tech' 'business' 'tech' 'politics'\n",
            " 'entertainment' 'entertainment' 'sport' 'sport' 'business' 'business'\n",
            " 'entertainment' 'business' 'business' 'sport' 'sport' 'tech'\n",
            " 'entertainment' 'entertainment' 'politics']\n"
          ]
        },
        {
          "output_type": "execute_result",
          "data": {
            "text/plain": [
              "0.9899328859060402"
            ]
          },
          "metadata": {},
          "execution_count": 20
        }
      ]
    },
    {
      "cell_type": "code",
      "source": [
        "from sklearn.linear_model import LogisticRegression\n",
        "regressor = LogisticRegression()\n",
        "regressor.fit(x_train, y_train)\n",
        "y_pred = regressor.predict(x_test)\n",
        "df = pd.DataFrame({'Actual': y_test, 'Predicted': y_pred})\n",
        "score = regressor.score(x_train, y_train)\n",
        "print(score)\n"
      ],
      "metadata": {
        "colab": {
          "base_uri": "https://localhost:8080/",
          "height": 0
        },
        "id": "BwYqu1280reL",
        "outputId": "717927ae-bd04-420d-fa24-85981bd53e26"
      },
      "execution_count": 21,
      "outputs": [
        {
          "output_type": "stream",
          "name": "stdout",
          "text": [
            "0.9949664429530202\n"
          ]
        }
      ]
    },
    {
      "cell_type": "code",
      "source": [
        "from sklearn.neighbors import KNeighborsClassifier\n",
        "classifier = KNeighborsClassifier(n_neighbors = 3, metric = 'euclidean')\n",
        "classifier.fit(x_train, y_train)\n",
        "classifier\n",
        "y_pred = classifier.predict(x_test)\n",
        "print(y_pred)\n",
        "classifier.score(x,y)\n"
      ],
      "metadata": {
        "colab": {
          "base_uri": "https://localhost:8080/",
          "height": 0
        },
        "id": "x_3YbxiQ0uAr",
        "outputId": "4c83eb32-376e-47f0-80cc-13c0862f7752"
      },
      "execution_count": 22,
      "outputs": [
        {
          "output_type": "stream",
          "name": "stdout",
          "text": [
            "['entertainment' 'politics' 'sport' 'politics' 'sport' 'business'\n",
            " 'business' 'tech' 'entertainment' 'tech' 'sport' 'entertainment'\n",
            " 'politics' 'tech' 'sport' 'tech' 'business' 'entertainment' 'politics'\n",
            " 'entertainment' 'tech' 'tech' 'entertainment' 'tech' 'business'\n",
            " 'business' 'politics' 'sport' 'entertainment' 'tech' 'entertainment'\n",
            " 'sport' 'entertainment' 'entertainment' 'entertainment' 'business'\n",
            " 'business' 'politics' 'tech' 'tech' 'sport' 'business' 'politics'\n",
            " 'business' 'sport' 'entertainment' 'sport' 'entertainment' 'tech' 'sport'\n",
            " 'politics' 'sport' 'entertainment' 'sport' 'sport' 'entertainment'\n",
            " 'entertainment' 'business' 'sport' 'entertainment' 'sport' 'business'\n",
            " 'sport' 'business' 'sport' 'tech' 'business' 'tech' 'business'\n",
            " 'entertainment' 'sport' 'sport' 'entertainment' 'business' 'tech'\n",
            " 'politics' 'politics' 'politics' 'entertainment' 'tech' 'tech' 'tech'\n",
            " 'entertainment' 'entertainment' 'tech' 'sport' 'tech' 'business'\n",
            " 'business' 'business' 'business' 'business' 'sport' 'entertainment'\n",
            " 'politics' 'sport' 'business' 'tech' 'entertainment' 'politics'\n",
            " 'entertainment' 'business' 'business' 'sport' 'politics' 'business'\n",
            " 'sport' 'tech' 'politics' 'business' 'entertainment' 'entertainment'\n",
            " 'politics' 'politics' 'entertainment' 'entertainment' 'entertainment'\n",
            " 'entertainment' 'tech' 'politics' 'politics' 'business' 'politics'\n",
            " 'sport' 'entertainment' 'tech' 'sport' 'sport' 'sport' 'sport' 'sport'\n",
            " 'sport' 'business' 'politics' 'politics' 'sport' 'sport' 'tech' 'sport'\n",
            " 'politics' 'business' 'sport' 'politics' 'business' 'entertainment'\n",
            " 'business' 'tech' 'entertainment' 'politics' 'tech' 'sport' 'sport'\n",
            " 'sport' 'politics' 'sport' 'sport' 'business' 'entertainment'\n",
            " 'entertainment' 'business' 'entertainment' 'business' 'sport' 'business'\n",
            " 'sport' 'sport' 'business' 'politics' 'business' 'sport' 'business'\n",
            " 'entertainment' 'sport' 'tech' 'business' 'entertainment' 'tech'\n",
            " 'politics' 'business' 'entertainment' 'tech' 'tech' 'tech' 'politics'\n",
            " 'tech' 'sport' 'business' 'business' 'entertainment' 'sport' 'politics'\n",
            " 'entertainment' 'politics' 'tech' 'business' 'politics' 'politics'\n",
            " 'sport' 'entertainment' 'entertainment' 'business' 'sport' 'tech'\n",
            " 'entertainment' 'sport' 'business' 'sport' 'entertainment' 'business'\n",
            " 'tech' 'entertainment' 'business' 'business' 'tech' 'business' 'politics'\n",
            " 'tech' 'entertainment' 'sport' 'politics' 'entertainment' 'entertainment'\n",
            " 'tech' 'politics' 'business' 'business' 'politics' 'entertainment'\n",
            " 'entertainment' 'sport' 'sport' 'politics' 'politics' 'tech' 'politics'\n",
            " 'business' 'entertainment' 'entertainment' 'tech' 'business'\n",
            " 'entertainment' 'entertainment' 'sport' 'sport' 'sport' 'tech' 'business'\n",
            " 'politics' 'entertainment' 'politics' 'business' 'tech' 'tech' 'business'\n",
            " 'politics' 'sport' 'politics' 'business' 'business' 'entertainment'\n",
            " 'business' 'tech' 'sport' 'tech' 'sport' 'sport' 'business' 'politics'\n",
            " 'tech' 'politics' 'politics' 'politics' 'business' 'tech' 'politics'\n",
            " 'sport' 'politics' 'tech' 'entertainment' 'tech' 'business' 'tech'\n",
            " 'politics' 'entertainment' 'entertainment' 'sport' 'sport' 'business'\n",
            " 'business' 'entertainment' 'tech' 'entertainment' 'sport' 'sport' 'tech'\n",
            " 'entertainment' 'entertainment' 'business']\n"
          ]
        },
        {
          "output_type": "execute_result",
          "data": {
            "text/plain": [
              "0.9604026845637584"
            ]
          },
          "metadata": {},
          "execution_count": 22
        }
      ]
    },
    {
      "cell_type": "code",
      "source": [
        "y_pred1 = tfidf.transform(['hyundai to build new india plant south korea s hyundai motor has announced that it plans to build a second plant in india to meet the country s growing demand for cars.  the company didn t give details of its'])\n",
        "yy = classifier.predict(y_pred1)\n",
        "result = \"\"\n",
        "if yy == [0]:\n",
        "  result = \"Business News\"\n",
        "elif yy == [1]:\n",
        "  result = \"Tech News\"\n",
        "elif yy == [2]:\n",
        "  result = \"Politics News\"\n",
        "elif yy == [3]:\n",
        "  result = \"Sports News\"\n",
        "elif yy == [1]:\n",
        "  result = \"Entertainment News\"\n",
        "print(yy)"
      ],
      "metadata": {
        "colab": {
          "base_uri": "https://localhost:8080/",
          "height": 0
        },
        "id": "zh5FkjbJ0vbS",
        "outputId": "38de3087-cb00-4b66-97b2-d9f8d3711e18"
      },
      "execution_count": 23,
      "outputs": [
        {
          "output_type": "stream",
          "name": "stdout",
          "text": [
            "['business']\n"
          ]
        }
      ]
    },
    {
      "cell_type": "code",
      "source": [],
      "metadata": {
        "id": "yERnfPso083w"
      },
      "execution_count": null,
      "outputs": []
    }
  ]
}