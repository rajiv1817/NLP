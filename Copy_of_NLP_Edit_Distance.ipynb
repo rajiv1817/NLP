{
  "nbformat": 4,
  "nbformat_minor": 0,
  "metadata": {
    "colab": {
      "provenance": [],
      "include_colab_link": true
    },
    "kernelspec": {
      "name": "python3",
      "display_name": "Python 3"
    },
    "language_info": {
      "name": "python"
    }
  },
  "cells": [
    {
      "cell_type": "markdown",
      "metadata": {
        "id": "view-in-github",
        "colab_type": "text"
      },
      "source": [
        "<a href=\"https://colab.research.google.com/github/rajiv1817/NLP/blob/main/Copy_of_NLP_Edit_Distance.ipynb\" target=\"_parent\"><img src=\"https://colab.research.google.com/assets/colab-badge.svg\" alt=\"Open In Colab\"/></a>"
      ]
    },
    {
      "cell_type": "code",
      "execution_count": null,
      "metadata": {
        "id": "GcFEtNPjXzPU"
      },
      "outputs": [],
      "source": [
        "def edit_distance(word1, word2):\n",
        "  m = len(word1)\n",
        "  n = len(word2)\n",
        "  table = [[0 for _ in range(n+1)] for _ in range(m+1)]\n",
        "\n",
        "  for i in range(m+1):\n",
        "    table[i][0] = i\n",
        "  for j in range(n+1):\n",
        "    table[0][j] = j\n",
        "\n",
        "  for i in range(1, m+1):\n",
        "    for j in range(1, n+1):\n",
        "      if word1[i-1] == word2[j-1]:\n",
        "        table[i][j] = table[i-1][j-1]\n",
        "      else:\n",
        "        table[i][j] = 1+min(table[i-1][j],table[i][j-1],table[i-1][j-1])\n",
        "  return table[-1][-1]"
      ]
    },
    {
      "cell_type": "code",
      "source": [
        "edit_distance(\"loose\",\"spruce\")"
      ],
      "metadata": {
        "colab": {
          "base_uri": "https://localhost:8080/"
        },
        "id": "AUsQ495xa6jA",
        "outputId": "756bc359-d38b-433b-e62b-ccf3c68cb143"
      },
      "execution_count": null,
      "outputs": [
        {
          "output_type": "execute_result",
          "data": {
            "text/plain": [
              "5"
            ]
          },
          "metadata": {},
          "execution_count": 4
        }
      ]
    }
  ]
}