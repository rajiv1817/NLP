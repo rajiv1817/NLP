{
  "nbformat": 4,
  "nbformat_minor": 0,
  "metadata": {
    "colab": {
      "provenance": [],
      "authorship_tag": "ABX9TyNZaVizHZWAC21CJqXfvDGy",
      "include_colab_link": true
    },
    "kernelspec": {
      "name": "python3",
      "display_name": "Python 3"
    },
    "language_info": {
      "name": "python"
    }
  },
  "cells": [
    {
      "cell_type": "markdown",
      "metadata": {
        "id": "view-in-github",
        "colab_type": "text"
      },
      "source": [
        "<a href=\"https://colab.research.google.com/github/rajiv1817/NLP/blob/main/NLP_word_2_vec.ipynb\" target=\"_parent\"><img src=\"https://colab.research.google.com/assets/colab-badge.svg\" alt=\"Open In Colab\"/></a>"
      ]
    },
    {
      "cell_type": "markdown",
      "source": [
        "122010304017-Rajiv"
      ],
      "metadata": {
        "id": "6hMLvPwN4t2k"
      }
    },
    {
      "cell_type": "code",
      "execution_count": 1,
      "metadata": {
        "id": "SMzCfbY34Txi"
      },
      "outputs": [],
      "source": [
        "from numpy import array\n",
        "from tensorflow.keras.preprocessing.text import one_hot\n",
        "from tensorflow.keras.preprocessing.sequence import pad_sequences\n",
        "from tensorflow.keras.models import Sequential\n",
        "from tensorflow.keras.layers import Flatten,Embedding,Dense"
      ]
    },
    {
      "cell_type": "code",
      "source": [
        "reviews =[\n",
        "          'worst experience',\n",
        "          'Awful service',\n",
        "          'bad waitress',\n",
        "          'spoiled food',\n",
        "          'Disappointing food',\n",
        "          'great experience',\n",
        "          'execellent service',\n",
        "          'beautiful waitress',\n",
        "          'tasty food',\n",
        "          'healthy food!'\n",
        "]"
      ],
      "metadata": {
        "id": "SfWzsVaw44pL"
      },
      "execution_count": 2,
      "outputs": []
    },
    {
      "cell_type": "code",
      "source": [
        "labels = array([1,1,1,1,1,0,0,0,0,0])"
      ],
      "metadata": {
        "id": "apC8r3mz5PPr"
      },
      "execution_count": 3,
      "outputs": []
    },
    {
      "cell_type": "code",
      "source": [
        "Vocab_size = 40\n",
        "encoded_reviews = [one_hot(d,Vocab_size) for d in reviews]\n",
        "print(f'encoded reviews: {encoded_reviews}')"
      ],
      "metadata": {
        "colab": {
          "base_uri": "https://localhost:8080/",
          "height": 0
        },
        "id": "PVWkQfUI5RKT",
        "outputId": "6dcdfe7c-956c-4e05-97fe-1f2f8e874654"
      },
      "execution_count": 4,
      "outputs": [
        {
          "output_type": "stream",
          "name": "stdout",
          "text": [
            "encoded reviews: [[20, 3], [8, 6], [16, 18], [10, 7], [38, 7], [34, 3], [16, 6], [29, 18], [26, 7], [16, 7]]\n"
          ]
        }
      ]
    },
    {
      "cell_type": "code",
      "source": [
        "max_length = 3\n",
        "padded_reviews = pad_sequences(encoded_reviews,maxlen=max_length,padding='post')\n",
        "print(padded_reviews)"
      ],
      "metadata": {
        "colab": {
          "base_uri": "https://localhost:8080/",
          "height": 0
        },
        "id": "YHH8yLtF5SiT",
        "outputId": "b481183e-e7c8-4a5b-a020-1b71042b46a7"
      },
      "execution_count": 5,
      "outputs": [
        {
          "output_type": "stream",
          "name": "stdout",
          "text": [
            "[[20  3  0]\n",
            " [ 8  6  0]\n",
            " [16 18  0]\n",
            " [10  7  0]\n",
            " [38  7  0]\n",
            " [34  3  0]\n",
            " [16  6  0]\n",
            " [29 18  0]\n",
            " [26  7  0]\n",
            " [16  7  0]]\n"
          ]
        }
      ]
    },
    {
      "cell_type": "code",
      "source": [
        "model = Sequential()\n",
        "embedding_layer = Embedding(input_dim=Vocab_size,output_dim=5,input_length=max_length)\n",
        "model.add(embedding_layer)\n",
        "model.add(Flatten())\n",
        "model.add(Dense(1,activation='sigmoid'))\n",
        "model.compile(optimizer='adam',loss='binary_crossentropy',metrics=['acc'])\n",
        "print(model.summary())"
      ],
      "metadata": {
        "colab": {
          "base_uri": "https://localhost:8080/",
          "height": 0
        },
        "id": "GKQijO0r5WBK",
        "outputId": "8c2c9eac-5ad0-4f3c-b6ec-8eed635a08ba"
      },
      "execution_count": 6,
      "outputs": [
        {
          "output_type": "stream",
          "name": "stdout",
          "text": [
            "Model: \"sequential\"\n",
            "_________________________________________________________________\n",
            " Layer (type)                Output Shape              Param #   \n",
            "=================================================================\n",
            " embedding (Embedding)       (None, 3, 5)              200       \n",
            "                                                                 \n",
            " flatten (Flatten)           (None, 15)                0         \n",
            "                                                                 \n",
            " dense (Dense)               (None, 1)                 16        \n",
            "                                                                 \n",
            "=================================================================\n",
            "Total params: 216 (864.00 Byte)\n",
            "Trainable params: 216 (864.00 Byte)\n",
            "Non-trainable params: 0 (0.00 Byte)\n",
            "_________________________________________________________________\n",
            "None\n"
          ]
        }
      ]
    },
    {
      "cell_type": "code",
      "source": [
        "model.fit(padded_reviews, labels, epochs=30)"
      ],
      "metadata": {
        "colab": {
          "base_uri": "https://localhost:8080/",
          "height": 0
        },
        "id": "8M2959do5YFm",
        "outputId": "6d6a9552-064f-4d00-a4f0-f34560e60072"
      },
      "execution_count": 7,
      "outputs": [
        {
          "output_type": "stream",
          "name": "stdout",
          "text": [
            "Epoch 1/30\n",
            "1/1 [==============================] - 1s 874ms/step - loss: 0.6930 - acc: 0.5000\n",
            "Epoch 2/30\n",
            "1/1 [==============================] - 0s 18ms/step - loss: 0.6923 - acc: 0.5000\n",
            "Epoch 3/30\n",
            "1/1 [==============================] - 0s 12ms/step - loss: 0.6915 - acc: 0.5000\n",
            "Epoch 4/30\n",
            "1/1 [==============================] - 0s 11ms/step - loss: 0.6908 - acc: 0.6000\n",
            "Epoch 5/30\n",
            "1/1 [==============================] - 0s 10ms/step - loss: 0.6901 - acc: 0.5000\n",
            "Epoch 6/30\n",
            "1/1 [==============================] - 0s 10ms/step - loss: 0.6893 - acc: 0.5000\n",
            "Epoch 7/30\n",
            "1/1 [==============================] - 0s 10ms/step - loss: 0.6886 - acc: 0.5000\n",
            "Epoch 8/30\n",
            "1/1 [==============================] - 0s 10ms/step - loss: 0.6879 - acc: 0.5000\n",
            "Epoch 9/30\n",
            "1/1 [==============================] - 0s 12ms/step - loss: 0.6871 - acc: 0.6000\n",
            "Epoch 10/30\n",
            "1/1 [==============================] - 0s 11ms/step - loss: 0.6864 - acc: 0.8000\n",
            "Epoch 11/30\n",
            "1/1 [==============================] - 0s 14ms/step - loss: 0.6857 - acc: 0.8000\n",
            "Epoch 12/30\n",
            "1/1 [==============================] - 0s 11ms/step - loss: 0.6850 - acc: 0.8000\n",
            "Epoch 13/30\n",
            "1/1 [==============================] - 0s 12ms/step - loss: 0.6842 - acc: 0.8000\n",
            "Epoch 14/30\n",
            "1/1 [==============================] - 0s 11ms/step - loss: 0.6835 - acc: 0.8000\n",
            "Epoch 15/30\n",
            "1/1 [==============================] - 0s 11ms/step - loss: 0.6828 - acc: 0.8000\n",
            "Epoch 16/30\n",
            "1/1 [==============================] - 0s 11ms/step - loss: 0.6820 - acc: 0.8000\n",
            "Epoch 17/30\n",
            "1/1 [==============================] - 0s 11ms/step - loss: 0.6813 - acc: 0.8000\n",
            "Epoch 18/30\n",
            "1/1 [==============================] - 0s 11ms/step - loss: 0.6806 - acc: 0.8000\n",
            "Epoch 19/30\n",
            "1/1 [==============================] - 0s 11ms/step - loss: 0.6798 - acc: 0.9000\n",
            "Epoch 20/30\n",
            "1/1 [==============================] - 0s 11ms/step - loss: 0.6791 - acc: 0.9000\n",
            "Epoch 21/30\n",
            "1/1 [==============================] - 0s 11ms/step - loss: 0.6783 - acc: 0.9000\n",
            "Epoch 22/30\n",
            "1/1 [==============================] - 0s 10ms/step - loss: 0.6776 - acc: 0.9000\n",
            "Epoch 23/30\n",
            "1/1 [==============================] - 0s 10ms/step - loss: 0.6768 - acc: 0.9000\n",
            "Epoch 24/30\n",
            "1/1 [==============================] - 0s 11ms/step - loss: 0.6761 - acc: 0.9000\n",
            "Epoch 25/30\n",
            "1/1 [==============================] - 0s 11ms/step - loss: 0.6753 - acc: 0.9000\n",
            "Epoch 26/30\n",
            "1/1 [==============================] - 0s 10ms/step - loss: 0.6745 - acc: 0.9000\n",
            "Epoch 27/30\n",
            "1/1 [==============================] - 0s 11ms/step - loss: 0.6738 - acc: 0.9000\n",
            "Epoch 28/30\n",
            "1/1 [==============================] - 0s 11ms/step - loss: 0.6730 - acc: 0.9000\n",
            "Epoch 29/30\n",
            "1/1 [==============================] - 0s 19ms/step - loss: 0.6722 - acc: 0.9000\n",
            "Epoch 30/30\n",
            "1/1 [==============================] - 0s 10ms/step - loss: 0.6714 - acc: 0.9000\n"
          ]
        },
        {
          "output_type": "execute_result",
          "data": {
            "text/plain": [
              "<keras.src.callbacks.History at 0x7a424270c3d0>"
            ]
          },
          "metadata": {},
          "execution_count": 7
        }
      ]
    },
    {
      "cell_type": "code",
      "source": [
        "modelloss, modelaccuracy = model.evaluate(padded_reviews, labels, verbose=0)\n",
        "print('Accuracy: %f' % (modelaccuracy*100))"
      ],
      "metadata": {
        "colab": {
          "base_uri": "https://localhost:8080/",
          "height": 0
        },
        "id": "U49T44wa5bjx",
        "outputId": "909030cd-589c-468a-e390-582c4c570d4f"
      },
      "execution_count": 8,
      "outputs": [
        {
          "output_type": "stream",
          "name": "stdout",
          "text": [
            "Accuracy: 89.999998\n"
          ]
        }
      ]
    }
  ]
}