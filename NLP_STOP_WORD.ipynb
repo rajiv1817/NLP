{
  "nbformat": 4,
  "nbformat_minor": 0,
  "metadata": {
    "colab": {
      "provenance": []
    },
    "kernelspec": {
      "name": "python3",
      "display_name": "Python 3"
    },
    "language_info": {
      "name": "python"
    }
  },
  "cells": [
    {
      "cell_type": "code",
      "execution_count": 1,
      "metadata": {
        "id": "SEVnE4s8Qxt7"
      },
      "outputs": [],
      "source": [
        "corpus = [\n",
        "    \"Ivan cooked the pizza\",\n",
        "    \"Ganesh! is tall\",\n",
        "    \"Rakesh, is eating Biryani\"\n",
        "]"
      ]
    },
    {
      "cell_type": "code",
      "source": [
        "import spacy\n",
        "\n",
        "# load english language model and create nlp object from it\n",
        "nlp = spacy.load(\"en_core_web_sm\")\n",
        "\n",
        "def preprocess(text):\n",
        "    # remove stop words and lemmatize the text\n",
        "    doc = nlp(text)\n",
        "    filtered_tokens = []\n",
        "    for token in doc:\n",
        "        if token.is_stop or token.is_punct:\n",
        "            continue\n",
        "        filtered_tokens.append(token.lemma_)\n",
        "\n",
        "    return \" \".join(filtered_tokens)\n"
      ],
      "metadata": {
        "id": "_FQcKE9tQy89"
      },
      "execution_count": 2,
      "outputs": []
    },
    {
      "cell_type": "code",
      "source": [
        "preprocess(\"Ivan cooked the pizza\")"
      ],
      "metadata": {
        "colab": {
          "base_uri": "https://localhost:8080/",
          "height": 35
        },
        "id": "OXm82H_tk7lM",
        "outputId": "97ca995c-d321-4174-bda7-49318595df2a"
      },
      "execution_count": 3,
      "outputs": [
        {
          "output_type": "execute_result",
          "data": {
            "text/plain": [
              "'Ivan cook pizza'"
            ],
            "application/vnd.google.colaboratory.intrinsic+json": {
              "type": "string"
            }
          },
          "metadata": {},
          "execution_count": 3
        }
      ]
    },
    {
      "cell_type": "code",
      "source": [
        "preprocess(\"Venkat is eating Biryani\")"
      ],
      "metadata": {
        "colab": {
          "base_uri": "https://localhost:8080/",
          "height": 35
        },
        "id": "XwtLuv8llA8U",
        "outputId": "78b12777-f5d3-4093-8483-bcf665af6c32"
      },
      "execution_count": 4,
      "outputs": [
        {
          "output_type": "execute_result",
          "data": {
            "text/plain": [
              "'Venkat eat Biryani'"
            ],
            "application/vnd.google.colaboratory.intrinsic+json": {
              "type": "string"
            }
          },
          "metadata": {},
          "execution_count": 4
        }
      ]
    },
    {
      "cell_type": "code",
      "source": [
        "corpus_processed = [\n",
        "    preprocess(text) for text in corpus\n",
        "]\n",
        "corpus_processed"
      ],
      "metadata": {
        "colab": {
          "base_uri": "https://localhost:8080/"
        },
        "id": "tObcjOA5R2fm",
        "outputId": "1f32016d-3819-4729-94bc-c6dc33ab2537"
      },
      "execution_count": 5,
      "outputs": [
        {
          "output_type": "execute_result",
          "data": {
            "text/plain": [
              "['Ivan cook pizza', 'Ganesh tall', 'Rakesh eat Biryani']"
            ]
          },
          "metadata": {},
          "execution_count": 5
        }
      ]
    },
    {
      "cell_type": "code",
      "source": [
        "from sklearn.feature_extraction.text import CountVectorizer\n",
        "\n",
        "v = CountVectorizer()\n",
        "v.fit(corpus)\n",
        "v.vocabulary_"
      ],
      "metadata": {
        "colab": {
          "base_uri": "https://localhost:8080/"
        },
        "id": "iP4Y7lD6VPCM",
        "outputId": "950e314f-e647-448b-cf17-93c84f1b168f"
      },
      "execution_count": 6,
      "outputs": [
        {
          "output_type": "execute_result",
          "data": {
            "text/plain": [
              "{'ivan': 5,\n",
              " 'cooked': 1,\n",
              " 'the': 9,\n",
              " 'pizza': 6,\n",
              " 'ganesh': 3,\n",
              " 'is': 4,\n",
              " 'tall': 8,\n",
              " 'rakesh': 7,\n",
              " 'eating': 2,\n",
              " 'biryani': 0}"
            ]
          },
          "metadata": {},
          "execution_count": 6
        }
      ]
    },
    {
      "cell_type": "code",
      "source": [
        "v = CountVectorizer(ngram_range=(1,2))\n",
        "v.fit(corpus_processed)\n",
        "v.vocabulary_"
      ],
      "metadata": {
        "colab": {
          "base_uri": "https://localhost:8080/"
        },
        "id": "SJyOzQffYD9g",
        "outputId": "b7601754-beef-4ec0-9609-4d666557678a"
      },
      "execution_count": 7,
      "outputs": [
        {
          "output_type": "execute_result",
          "data": {
            "text/plain": [
              "{'ivan': 7,\n",
              " 'cook': 1,\n",
              " 'pizza': 9,\n",
              " 'ivan cook': 8,\n",
              " 'cook pizza': 2,\n",
              " 'ganesh': 5,\n",
              " 'tall': 12,\n",
              " 'ganesh tall': 6,\n",
              " 'rakesh': 10,\n",
              " 'eat': 3,\n",
              " 'biryani': 0,\n",
              " 'rakesh eat': 11,\n",
              " 'eat biryani': 4}"
            ]
          },
          "metadata": {},
          "execution_count": 7
        }
      ]
    },
    {
      "cell_type": "code",
      "source": [
        "v.transform([\"Ivan cooked the pizza\"]).toarray()"
      ],
      "metadata": {
        "colab": {
          "base_uri": "https://localhost:8080/"
        },
        "id": "LfCBuBxyeQz6",
        "outputId": "13fde9a5-242d-4d49-efd8-798af96b0991"
      },
      "execution_count": 8,
      "outputs": [
        {
          "output_type": "execute_result",
          "data": {
            "text/plain": [
              "array([[0, 0, 0, 0, 0, 0, 0, 1, 0, 1, 0, 0, 0]])"
            ]
          },
          "metadata": {},
          "execution_count": 8
        }
      ]
    },
    {
      "cell_type": "code",
      "source": [
        "v.transform([\"Rakesh is eating Biryani\"]).toarray()"
      ],
      "metadata": {
        "colab": {
          "base_uri": "https://localhost:8080/"
        },
        "id": "8_BB41VSedDR",
        "outputId": "3256b735-d61a-4bd1-d2ff-011b70af32fa"
      },
      "execution_count": 9,
      "outputs": [
        {
          "output_type": "execute_result",
          "data": {
            "text/plain": [
              "array([[1, 0, 0, 0, 0, 0, 0, 0, 0, 0, 1, 0, 0]])"
            ]
          },
          "metadata": {},
          "execution_count": 9
        }
      ]
    }
  ]
}